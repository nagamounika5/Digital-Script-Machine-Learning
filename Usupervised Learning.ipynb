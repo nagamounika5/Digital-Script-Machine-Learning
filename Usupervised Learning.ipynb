{
 "cells": [
  {
   "cell_type": "markdown",
   "metadata": {},
   "source": [
    "- 15min: Intro, Types, Clustering model\n",
    "- 20min: Explaination of K-Means and Understanding K-Means\n",
    "- 15min: Using Simple Example\n",
    "- 15min: Applying K-Means using dataset\n",
    "- 15min: Elbow Method"
   ]
  },
  {
   "cell_type": "markdown",
   "metadata": {},
   "source": [
    "# Unsupervised Learning\n",
    "## Introduction\n",
    "In the previous class, we learned supervised machine learning in which models are trained using labeled data under the supervision of training data. When it comes to Unsupervised learning, models are trained using unlabeled dataset and not supervised. Instead, models themselves find the hidden patterns. <br>\n",
    "Unsupervised learning is a machine learning technique, where you do not need to supervise the model. Instead, you need to allow the model to work on its own to discover information. The most common unsupervised learning method is Cluster Analysis.\n",
    "## Types of Unsupervised Learning\n",
    "**1. Clustering**\n",
    "- K-Means Clustering: clustering your data points into a number (K) of mutually exclusive clusters.\n",
    "- Hierarchical Clustering: clustering your data points into parent and child clusters.\n",
    "- Probabilistic Clustering: lustering your data points into clusters on a probabilistic scale\n",
    "\n",
    "**2. Data Compression**\n",
    "- Dimensionality reduction:  (dimensions = how many columns are in your dataset)\n",
    "\n",
    "**3. Generative Models**\n",
    "\n",
    "## Clustering Model\n",
    "**What is Clustering**<br>\n",
    "Generally, Cluster means a group of data or things. In Unsupervised Learning, Clustering involves the grouping of data points.<br>\n",
    "In clustering, the algorithm divides the dataset into different groups such that each data point is similar to the data-points in the same group and dissimilar to the data points in the other groups. On the basis of similarity and dissimilarity, it then assigns appropriate sub-group to the object.<br>\n",
    "**Application of Clustering**<br>\n",
    "There are many applications for clustering. Most frequently we use in Social Network Analysis, based on the concept of Clustering, it helps in generating a series of images, videos, and audios.\n",
    "\n",
    "## K-means clustering Algorithm\n",
    "K-means clustering is one of the simplest unsupervised learning algorithms, wherein data is split into k no of clusters based on distance to the centroid of a cluster.\n",
    "\n",
    "Now Just follow the 3 steps in k-means algorithm \n",
    "- Step1 is: Randomly Initialize K no of clusters and Centroids\n",
    "- Step2 is: Calculate the distance between Centroids and each and every data points\n",
    "    - Using  Euclidean Distance Formula\n",
    "- Step3 is: Update the distance and new Centroids\n",
    "- Step4: Repeat the same process\n",
    "    - Until No changes in clusters\n",
    "\n",
    "![](1.PNG)\n",
    "In the above fig, there are 4clusters or groups (blue, red, pink and black) and each and every cluster have centroids which are represented in star ( * )\n"
   ]
  },
  {
   "attachments": {},
   "cell_type": "markdown",
   "metadata": {},
   "source": [
    "**Now i am takeing one Example to better understanding purpose**<br>\n",
    "let's take the graph with given points and divide them into 3 clusters in .\n",
    "![](2.PNG)\n",
    "- Step1: Initialize K cluster and centroids\n",
    "![](3.PNG)\n",
    "\n",
    "    - There are 3 clusters (K = 3) and C1, C2, C3 are the centroids\n",
    "    - Centroids means the average of data points in a one cluster.\n",
    "        - Note: Initially, we will take K value and centroid points randomly\n",
    "- Step2: Calculate the distance\n",
    "![](4.PNG)\n",
    "    - Euclidean distance is used for calculating the distance between centroids and other data points.\n",
    "![](dist.PNG)\n",
    "- Step3: Update the distance and new Centroids\n",
    "![](5.PNG)\n",
    "    - Comparing Fig:2 and Fig: 4, the centroids are updated\n",
    "- Step4: Repeat the process\n",
    "    - Until No changes in clusters"
   ]
  },
  {
   "cell_type": "code",
   "execution_count": 3,
   "metadata": {},
   "outputs": [],
   "source": [
    "# Simple Example\n",
    "\n",
    "# sno   X    Y\n",
    "#-----------------\n",
    "# 1     1    1   \n",
    "# 2    1.5   2\n",
    "# 3     3    4\n",
    "# 4     5    7\n",
    "# 5    3.5   5\n",
    "# 6    4.5   5\n",
    "# 7    3.5   4.5"
   ]
  },
  {
   "cell_type": "code",
   "execution_count": 4,
   "metadata": {},
   "outputs": [
    {
     "data": {
      "image/png": "[encoded data removed]",
      "text/plain": [
       "<Figure size 432x288 with 1 Axes>"
      ]
     },
     "metadata": {
      "needs_background": "light"
     },
     "output_type": "display_data"
    }
   ],
   "source": [
    "import matplotlib.pyplot as plt\n",
    "X = [1,1.5,3,5,3.5,4.5,3.5]\n",
    "Y = [1,2,4,7,5,5,4.5]\n",
    "plt.scatter(X,Y)\n",
    "plt.show()"
   ]
  },
  {
   "cell_type": "markdown",
   "metadata": {},
   "source": [
    "Now, lets apply K-Means model for the above example"
   ]
  },
  {
   "cell_type": "code",
   "execution_count": 5,
   "metadata": {},
   "outputs": [],
   "source": [
    "import numpy as np\n",
    "X = np.array([[1, 1],\n",
    "              [1.5, 2],\n",
    "              [3, 4],\n",
    "              [5, 7],\n",
    "              [3.5, 5],\n",
    "              [4.5, 5],\n",
    "              [3.5, 4.5]])"
   ]
  },
  {
   "cell_type": "code",
   "execution_count": 8,
   "metadata": {},
   "outputs": [
    {
     "data": {
      "text/plain": [
       "array([[1. , 1. ],\n",
       "       [1.5, 2. ],\n",
       "       [3. , 4. ],\n",
       "       [5. , 7. ],\n",
       "       [3.5, 5. ],\n",
       "       [4.5, 5. ],\n",
       "       [3.5, 4.5]])"
      ]
     },
     "execution_count": 8,
     "metadata": {},
     "output_type": "execute_result"
    }
   ],
   "source": [
    "X"
   ]
  },
  {
   "cell_type": "markdown",
   "metadata": {},
   "source": [
    "We already knew that Scikit-learn is a machine learning library for the Python programming language. Now import K-Means model from clustering package using Scikit-learn(sklearn)"
   ]
  },
  {
   "cell_type": "code",
   "execution_count": 7,
   "metadata": {},
   "outputs": [],
   "source": [
    "from sklearn.cluster import KMeans"
   ]
  },
  {
   "cell_type": "code",
   "execution_count": 9,
   "metadata": {},
   "outputs": [
    {
     "data": {
      "text/plain": [
       "KMeans(algorithm='auto', copy_x=True, init='k-means++', max_iter=300,\n",
       "       n_clusters=2, n_init=10, n_jobs=None, precompute_distances='auto',\n",
       "       random_state=None, tol=0.0001, verbose=0)"
      ]
     },
     "execution_count": 9,
     "metadata": {},
     "output_type": "execute_result"
    }
   ],
   "source": [
    "kmeans = KMeans(n_clusters=2)\n",
    "kmeans.fit(X)"
   ]
  },
  {
   "cell_type": "code",
   "execution_count": 10,
   "metadata": {},
   "outputs": [
    {
     "name": "stdout",
     "output_type": "stream",
     "text": [
      "[[3.9  5.1 ]\n",
      " [1.25 1.5 ]]\n",
      "[1 1 0 0 0 0 0]\n"
     ]
    }
   ],
   "source": [
    "centroids = kmeans.cluster_centers_\n",
    "labels = kmeans.labels_\n",
    "\n",
    "print(centroids)\n",
    "print(labels)# it predicts 2 clusters(1's and 0's)"
   ]
  },
  {
   "cell_type": "code",
   "execution_count": 11,
   "metadata": {},
   "outputs": [
    {
     "data": {
      "image/png": "[encoded data removed]",
      "text/plain": [
       "<Figure size 432x288 with 1 Axes>"
      ]
     },
     "metadata": {
      "needs_background": "light"
     },
     "output_type": "display_data"
    }
   ],
   "source": [
    "colors = [\"y.\",\"b.\"]\n",
    "\n",
    "for i in range(len(X)):\n",
    "    #print(\"coordinate:\",X[i], \"label:\", labels[i])\n",
    "    plt.plot(X[i][0], X[i][1], colors[labels[i]])\n",
    "\n",
    "\n",
    "plt.scatter(centroids[:, 0],centroids[:, 1], marker = \"x\", s=150)\n",
    "\n",
    "plt.show()"
   ]
  },
  {
   "cell_type": "markdown",
   "metadata": {},
   "source": [
    "- In the above graph we have 2 clusters in Blue and Yellow color.\n",
    "- And 2 Centroids(X)"
   ]
  },
  {
   "cell_type": "markdown",
   "metadata": {},
   "source": [
    "### Now Apply K-Means in IRIS dataset"
   ]
  },
  {
   "cell_type": "code",
   "execution_count": 12,
   "metadata": {},
   "outputs": [],
   "source": [
    "# First of all import python libraries\n",
    "import numpy as np\n",
    "import pandas as pd\n",
    "import matplotlib.pyplot as plt"
   ]
  },
  {
   "cell_type": "code",
   "execution_count": 13,
   "metadata": {},
   "outputs": [
    {
     "data": {
      "text/html": [
       "<div>\n",
       "<style scoped>\n",
       "    .dataframe tbody tr th:only-of-type {\n",
       "        vertical-align: middle;\n",
       "    }\n",
       "\n",
       "    .dataframe tbody tr th {\n",
       "        vertical-align: top;\n",
       "    }\n",
       "\n",
       "    .dataframe thead th {\n",
       "        text-align: right;\n",
       "    }\n",
       "</style>\n",
       "<table border=\"1\" class=\"dataframe\">\n",
       "  <thead>\n",
       "    <tr style=\"text-align: right;\">\n",
       "      <th></th>\n",
       "      <th>sepal_length</th>\n",
       "      <th>sepal_width</th>\n",
       "      <th>petal_length</th>\n",
       "      <th>petal_width</th>\n",
       "      <th>species</th>\n",
       "    </tr>\n",
       "  </thead>\n",
       "  <tbody>\n",
       "    <tr>\n",
       "      <th>0</th>\n",
       "      <td>5.1</td>\n",
       "      <td>3.5</td>\n",
       "      <td>1.4</td>\n",
       "      <td>0.2</td>\n",
       "      <td>Iris-setosa</td>\n",
       "    </tr>\n",
       "    <tr>\n",
       "      <th>1</th>\n",
       "      <td>4.9</td>\n",
       "      <td>3.0</td>\n",
       "      <td>1.4</td>\n",
       "      <td>0.2</td>\n",
       "      <td>Iris-setosa</td>\n",
       "    </tr>\n",
       "    <tr>\n",
       "      <th>2</th>\n",
       "      <td>4.7</td>\n",
       "      <td>3.2</td>\n",
       "      <td>1.3</td>\n",
       "      <td>0.2</td>\n",
       "      <td>Iris-setosa</td>\n",
       "    </tr>\n",
       "    <tr>\n",
       "      <th>3</th>\n",
       "      <td>4.6</td>\n",
       "      <td>3.1</td>\n",
       "      <td>1.5</td>\n",
       "      <td>0.2</td>\n",
       "      <td>Iris-setosa</td>\n",
       "    </tr>\n",
       "    <tr>\n",
       "      <th>4</th>\n",
       "      <td>5.0</td>\n",
       "      <td>3.6</td>\n",
       "      <td>1.4</td>\n",
       "      <td>0.2</td>\n",
       "      <td>Iris-setosa</td>\n",
       "    </tr>\n",
       "  </tbody>\n",
       "</table>\n",
       "</div>"
      ],
      "text/plain": [
       "   sepal_length  sepal_width  petal_length  petal_width      species\n",
       "0           5.1          3.5           1.4          0.2  Iris-setosa\n",
       "1           4.9          3.0           1.4          0.2  Iris-setosa\n",
       "2           4.7          3.2           1.3          0.2  Iris-setosa\n",
       "3           4.6          3.1           1.5          0.2  Iris-setosa\n",
       "4           5.0          3.6           1.4          0.2  Iris-setosa"
      ]
     },
     "execution_count": 13,
     "metadata": {},
     "output_type": "execute_result"
    }
   ],
   "source": [
    "df = pd.read_csv('iris.csv')\n",
    "df.head(5)"
   ]
  },
  {
   "cell_type": "markdown",
   "metadata": {},
   "source": [
    "Actually for unsupervised learning, dataset dosent contains labelled data. But here IRIS dataset contains label data(species). So lets remove \"species\" column."
   ]
  },
  {
   "cell_type": "code",
   "execution_count": 14,
   "metadata": {},
   "outputs": [
    {
     "data": {
      "text/plain": [
       "array([[5.1, 3.5, 1.4, 0.2],\n",
       "       [4.9, 3. , 1.4, 0.2],\n",
       "       [4.7, 3.2, 1.3, 0.2],\n",
       "       [4.6, 3.1, 1.5, 0.2],\n",
       "       [5. , 3.6, 1.4, 0.2]])"
      ]
     },
     "execution_count": 14,
     "metadata": {},
     "output_type": "execute_result"
    }
   ],
   "source": [
    "x = df.iloc[:, [0,1,2,3]].values\n",
    "x[:5]"
   ]
  },
  {
   "cell_type": "code",
   "execution_count": 15,
   "metadata": {},
   "outputs": [],
   "source": [
    "from sklearn.cluster import KMeans"
   ]
  },
  {
   "cell_type": "code",
   "execution_count": 16,
   "metadata": {},
   "outputs": [
    {
     "name": "stdout",
     "output_type": "stream",
     "text": [
      "[0 0 0 0 0 0 0 0 0 0 0 0 0 0 0 0 0 0 0 0 0 0 0 0 0 0 0 0 0 0 0 0 0 0 0 0 0\n",
      " 0 0 0 0 0 0 0 0 0 0 0 0 0 3 3 3 2 3 2 3 2 3 2 2 2 2 3 2 3 3 2 3 2 3 2 3 3\n",
      " 3 3 3 3 3 2 2 2 2 3 2 3 3 3 2 2 2 3 2 2 2 2 2 3 2 2 1 3 4 1 1 4 2 4 1 4 1\n",
      " 1 1 3 1 1 1 4 4 3 1 3 4 3 1 4 3 3 1 4 4 4 1 3 3 4 1 1 3 1 1 1 3 1 1 1 3 1\n",
      " 1 3]\n"
     ]
    }
   ],
   "source": [
    "kmeans5 = KMeans(n_clusters=5)\n",
    "y_kmeans5 = kmeans5.fit_predict(x)\n",
    "print(y_kmeans5)"
   ]
  },
  {
   "cell_type": "markdown",
   "metadata": {},
   "source": [
    "- **n_clusters**: The 'K' number of clusters to form as well as the number of centroids to generate.\n",
    "- **fit_predict()**: predict cluster index for each sample"
   ]
  },
  {
   "cell_type": "markdown",
   "metadata": {},
   "source": [
    "- We do know about iris dataset. \n",
    "- In iris, we have 3 types of flowers 1.Setosa, 2.Versicolor, 3.Verginica.\n",
    "- That means iris contains only 3 clusters, but we got 5 clusters in the above output(0,1,2,3,4) bcoz, we initialize n_clusters = 5(K = 5).\n",
    "- To know how to initialize K value, we need to apply *Elbow method*"
   ]
  },
  {
   "cell_type": "code",
   "execution_count": 18,
   "metadata": {},
   "outputs": [
    {
     "data": {
      "image/png": "[encoded data removed]",
      "text/plain": [
       "<Figure size 432x288 with 1 Axes>"
      ]
     },
     "metadata": {
      "needs_background": "light"
     },
     "output_type": "display_data"
    }
   ],
   "source": [
    "e =[]\n",
    "for i in range(1, 11):\n",
    "    kmeans = KMeans(n_clusters = i).fit(x)\n",
    "    kmeans.fit(x)\n",
    "    e.append(kmeans.inertia_)\n",
    "import matplotlib.pyplot as plt\n",
    "plt.plot(range(1, 11), e)\n",
    "plt.title('Elbow method')\n",
    "plt.xlabel('No of clusters')\n",
    "plt.show()"
   ]
  },
  {
   "cell_type": "markdown",
   "metadata": {},
   "source": [
    "By using Elbow method, we have taken K value in range between 1 to 10 clusters. If you observe graph, it have 3 clusters.(At point 3 in X-Axis)"
   ]
  },
  {
   "cell_type": "code",
   "execution_count": 19,
   "metadata": {},
   "outputs": [
    {
     "name": "stdout",
     "output_type": "stream",
     "text": [
      "[1 1 1 1 1 1 1 1 1 1 1 1 1 1 1 1 1 1 1 1 1 1 1 1 1 1 1 1 1 1 1 1 1 1 1 1 1\n",
      " 1 1 1 1 1 1 1 1 1 1 1 1 1 0 0 2 0 0 0 0 0 0 0 0 0 0 0 0 0 0 0 0 0 0 0 0 0\n",
      " 0 0 0 2 0 0 0 0 0 0 0 0 0 0 0 0 0 0 0 0 0 0 0 0 0 0 2 0 2 2 2 2 0 2 2 2 2\n",
      " 2 2 0 0 2 2 2 2 0 2 0 2 0 2 2 0 0 2 2 2 2 2 0 2 2 2 2 0 2 2 2 0 2 2 2 0 2\n",
      " 2 0]\n"
     ]
    }
   ],
   "source": [
    "from sklearn.cluster import KMeans\n",
    "kmeans3 = KMeans(n_clusters=3)\n",
    "y_kmeans3 = kmeans3.fit_predict(x)\n",
    "print(y_kmeans3)"
   ]
  },
  {
   "cell_type": "code",
   "execution_count": null,
   "metadata": {},
   "outputs": [],
   "source": []
  },
  {
   "cell_type": "code",
   "execution_count": null,
   "metadata": {},
   "outputs": [],
   "source": []
  }
 ],
 "metadata": {
  "kernelspec": {
   "display_name": "Python 3",
   "language": "python",
   "name": "python3"
  },
  "language_info": {
   "codemirror_mode": {
    "name": "ipython",
    "version": 3
   },
   "file_extension": ".py",
   "mimetype": "text/x-python",
   "name": "python",
   "nbconvert_exporter": "python",
   "pygments_lexer": "ipython3",
   "version": "3.7.3"
  }
 },
 "nbformat": 4,
 "nbformat_minor": 2
}
